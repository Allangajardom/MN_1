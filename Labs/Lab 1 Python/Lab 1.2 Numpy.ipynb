{
 "cells": [
  {
   "cell_type": "markdown",
   "metadata": {},
   "source": [
    "<p><img alt=\"DataOwl\" width=150 src=\"http://gwsolutions.cl/Images/dataowl.png\", align=\"left\", hspace=0, vspace=5></p>\n",
    "\n",
    "<h1 align=\"center\">Numpy</h1>\n",
    "\n",
    "<h4 align=\"center\">Arreglos y aplicaciones</h4>\n",
    "<pre><div align=\"center\"> La idea de este notebook es que sirva para iniciarse en el uso\n",
    "de arreglos, como vectores y matrices. Además, podrán explorar\n",
    "documentación de Numpy y escribir funciones que usen estos\n",
    "métodos y los propios propuestos como ejercicios.</div>\n",
    "\n",
    "\n",
    "<div align=\"right\"> En términos de código y estructura, este notebook esta basado en el BootCamp \n",
    "<a href=\"https://github.com/Shekhar-rv/Python-for-Data-Science-and-Machine-Learning-Bootcamp\">Python for Data Science and Machine Learning</a>.\n",
    "</div></pre>"
   ]
  },
  {
   "cell_type": "markdown",
   "metadata": {},
   "source": [
    "## ¿Qué es Numpy?\n",
    "\n",
    "<p><img alt=\"Numpy\" width=70 src=\"https://user-images.githubusercontent.com/50221806/81123350-b7c5bb00-8ee7-11ea-9bfc-88f676c80315.png\", align=\"right\", hspace=0, vspace=5></p>\n",
    "\n",
    "NumPy es una extensión de Python, que le agrega mayor soporte para vectores y matrices, constituyendo una biblioteca de funciones matemáticas de alto nivel para operar con esos vectores o matrices.\n",
    "\n",
    "Para instalar la librería puede hacerse a través del comando **pip** o el comando **conda** en la consola de comandos:\n",
    "\n",
    "\n",
    "\n",
    "\n",
    "\n",
    "```cmd\n",
    "conda install numpy\n",
    "\n",
    "pip install numpy\n",
    "```"
   ]
  },
  {
   "cell_type": "code",
   "execution_count": null,
   "metadata": {
    "code_folding": []
   },
   "outputs": [],
   "source": [
    "# Importando la librería\n",
    "\n",
    "import numpy as np"
   ]
  },
  {
   "cell_type": "markdown",
   "metadata": {},
   "source": [
    "Numpy nos permite crear y trabajar con vectores (llamados arreglos) y matrices de forma simple, y se enfoca principalmente en añadir funciones matematicas, a diferencia de las listas que son estructuras de mayor complejidad. Existen varias maneras de construir un arreglo, entre ellas la más sencilla es realizarlo a partir de una lista, no obstante, podemos hacerlo a partir de una matriz o de comandos predefinidos."
   ]
  },
  {
   "cell_type": "code",
   "execution_count": null,
   "metadata": {
    "code_folding": []
   },
   "outputs": [],
   "source": [
    "# Creando arreglo a partir de una lista\n",
    "\n",
    "my_list = [1,2,3,4,5]\n",
    "my_array = np.asarray(my_list)\n",
    "\n",
    "my_array"
   ]
  },
  {
   "cell_type": "code",
   "execution_count": null,
   "metadata": {
    "code_folding": []
   },
   "outputs": [],
   "source": [
    "# Creando arreglo a partir de una lista de listas\n",
    "\n",
    "my_list_of_lists = [ [1,2,3] , [4,5,6] , [7,8,9] ]\n",
    "my_array_2 = np.asarray(my_list_of_lists)\n",
    "\n",
    "my_array_2"
   ]
  },
  {
   "cell_type": "code",
   "execution_count": null,
   "metadata": {
    "code_folding": []
   },
   "outputs": [],
   "source": [
    "# Definiendo un array ordenado (Función arange)\n",
    "\n",
    "arr = np.arange(1,11)\n",
    "\n",
    "arr"
   ]
  },
  {
   "cell_type": "code",
   "execution_count": null,
   "metadata": {
    "code_folding": []
   },
   "outputs": [],
   "source": [
    "# Definiendo un array de ceros (Función zeros)\n",
    "\n",
    "arr_0 = np.zeros(10)\n",
    "\n",
    "arr_0"
   ]
  },
  {
   "cell_type": "code",
   "execution_count": null,
   "metadata": {
    "code_folding": []
   },
   "outputs": [],
   "source": [
    "# Definiendo un array de unos (Función ones)\n",
    "\n",
    "arr_1 = np.ones(10)\n",
    "\n",
    "arr_1"
   ]
  },
  {
   "cell_type": "code",
   "execution_count": null,
   "metadata": {
    "code_folding": []
   },
   "outputs": [],
   "source": [
    "# Definiendo un arreglo equiespaciado\n",
    "\n",
    "arr1 = np.linspace(0,1,15)\n",
    "# arr2 = np.logspace(0,1,15) Averiguar qué hace este arreglo\n",
    "arr1"
   ]
  },
  {
   "cell_type": "code",
   "execution_count": null,
   "metadata": {
    "code_folding": []
   },
   "outputs": [],
   "source": [
    "# Definiendo la matriz identidad\n",
    "\n",
    "arr = np.eye(4)\n",
    "\n",
    "arr"
   ]
  },
  {
   "cell_type": "markdown",
   "metadata": {},
   "source": [
    "Además de la creación de arreglos, existen además maneras de indexar y operar alrededor de los arreglos.\n",
    "La indexación es prácticamente idéntica a la utilizada en listas. Sin embargo, este último objeto no permite realizar operaciones, puesto que sus elementos pueden tener tipos incompatibles. \n",
    "\n",
    "En el caso de los arreglos, éstos se pueden transformar con prácticamente cualquier operación aritmética y pueden operarse dentro de funciones."
   ]
  },
  {
   "cell_type": "code",
   "execution_count": null,
   "metadata": {},
   "outputs": [],
   "source": [
    "# Ponderación, suma, producto, potenciación, exponenciación y modulación\n",
    "\n",
    "arr1 = np.asarray([1, 3, 4, 9, 7])\n",
    "arr2 = np.linspace(1,6,5)\n"
   ]
  },
  {
   "cell_type": "code",
   "execution_count": null,
   "metadata": {
    "code_folding": []
   },
   "outputs": [],
   "source": [
    "# Evaluación en funciones implementadas en Numpy: polinomios, exponenciales, logaritmos, funciones trigonométricas.\n",
    "\n"
   ]
  },
  {
   "cell_type": "markdown",
   "metadata": {},
   "source": [
    "Existen muchas más funciones implementadas. Pueden revisarlas y probarlas en la documentación que provee Scipy de la librería Numpy: <a href=\"https://docs.scipy.org/doc/numpy-1.13.0/reference/routines.math.html\">Mathematical Functions</a>.\n",
    "\n",
    "Por otro lado, existen valores de interés operacional o constantes importantes, como $\\pm\\infty$, $\\pi$, $e$ o los valores NaN, y valores lógicos tal como los booleanos vistos antes. Pueden revisar la documentación en <a href=\"https://numpy.org/doc/1.18/reference/constants.html\">Constants</a> y <a href=\"https://numpy.org/doc/1.18/reference/routines.logic.html\">Logic Functions</a>.\n",
    "\n",
    "Recuerde anteponer <b>np.</b> a la función utilizada."
   ]
  },
  {
   "cell_type": "markdown",
   "metadata": {},
   "source": [
    "### Definición y uso de funciones\n",
    "\n",
    "Dentro de las aplicaciones de Python, una de las más importantes es el poder desarrollar programas basados en funciones definidas por el usuario, es decir, que no están implementadas con anterioridad. Estas funciones pueden estar basadas en funciones ya definidas en librerías existentes o en las definidas por el usuario.\n",
    "\n",
    "Para definir una función en Python, siempre se sigue la estructura dada por\n",
    "\n",
    "```Python\n",
    "def funcion(variables):\n",
    "    instrucciones\n",
    "```\n",
    "\n",
    "Es necesario notar que existe un espacio entre el borde del margen izquierdo y las instrucciones. Este espacio es llamado <b>indentación</b>, y es importante tener el cuidado de utilizarla apropiadamente. Consta de cuatro espacios de teclado, o bien un espacio del tabulador. Lo mismo se utiliza en los procesos que usan <b>in</b>, <b>for</b> y <b>while</b>.\n",
    "\n",
    "El resultado puede entregarlo de manera explícita o implícita. Veremos en el curso varios casos de ambos y que, en general, esto se adecúa al uso que se le quiera dar."
   ]
  },
  {
   "cell_type": "code",
   "execution_count": null,
   "metadata": {
    "code_folding": []
   },
   "outputs": [],
   "source": [
    "# -*- coding: utf-8 -*-"
   ]
  },
  {
   "cell_type": "code",
   "execution_count": null,
   "metadata": {
    "code_folding": []
   },
   "outputs": [],
   "source": []
  }
 ],
 "metadata": {
  "kernelspec": {
   "display_name": "Python 3",
   "language": "python",
   "name": "python3"
  },
  "language_info": {
   "codemirror_mode": {
    "name": "ipython",
    "version": 3
   },
   "file_extension": ".py",
   "mimetype": "text/x-python",
   "name": "python",
   "nbconvert_exporter": "python",
   "pygments_lexer": "ipython3",
   "version": "3.7.7"
  }
 },
 "nbformat": 4,
 "nbformat_minor": 4
}

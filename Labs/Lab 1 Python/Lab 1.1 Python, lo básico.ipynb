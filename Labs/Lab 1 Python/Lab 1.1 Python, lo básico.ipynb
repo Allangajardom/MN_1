{
 "cells": [
  {
   "cell_type": "markdown",
   "metadata": {},
   "source": [
    "<p><img alt=\"DataOwl\" width=150 src=\"http://gwsolutions.cl/Images/dataowl.png\", align=\"left\", hspace=0, vspace=5></p>\n",
    "\n",
    "<h1 align=\"center\">Conceptos Básicos de Python</h1>\n",
    "\n",
    "<h4 align=\"center\">Comenzando con la programación</h4>\n",
    "<pre><div align=\"center\"> La idea de este notebook es que sirva como apoyo para iniciarse en la programación en Python.</div>\n",
    "\n",
    "\n",
    "<div align=\"right\"> En términos de código y estructura, este notebook esta basado en el BootCamp \n",
    "<a href=\"https://github.com/Shekhar-rv/Python-for-Data-Science-and-Machine-Learning-Bootcamp\">Python for Data Science and Machine Learning</a>.\n",
    "</div></pre>"
   ]
  },
  {
   "cell_type": "markdown",
   "metadata": {},
   "source": [
    "<h2>Secciones</h2>\n",
    "\n",
    "<div class=\"alert alert-danger\" role=\"alert\">\n",
    "<ol>\n",
    "    <li><a href=\"#section1\"> Tipos de Variables</a></li>\n",
    "    <li><a href=\"#section2\"> Tipos de Operadores </a></li>\n",
    "    <li><a href=\"#section3\"> Sentencias Condicionales </a></li>\n",
    "    <li><a href=\"#section4\"> Ciclos</a></li>\n",
    "    <li><a href=\"#section5\"> Funciones </a></li>\n",
    "    <li><a href=\"#section6\"> Ejercicios</a></li>\n",
    "</ol>\n",
    "</div>\n",
    "\n",
    "<hr>"
   ]
  },
  {
   "cell_type": "markdown",
   "metadata": {},
   "source": [
    "<a id=\"section1\"></a>\n",
    "<h2>1. Tipos de Variables</h2>\n",
    "<hr>\n",
    "En Python tiene varios tipos de variables estándar disponibles por defecto en el intérprete, como las variables numéricas, booleanas y arreglos.\n",
    "\n",
    "Para el caso de las estructuras de datos se usan variables y constantes las cuales usan operadores para tratar los tipos de datos estándar."
   ]
  },
  {
   "cell_type": "code",
   "execution_count": 9,
   "metadata": {},
   "outputs": [],
   "source": [
    "# Variables numéricas\n",
    "\n",
    "x = 2            # Enteros\n",
    "#print(type(x))\n",
    "y = 2.0         # float (decimales)\n",
    "#y2 = 2.3\n",
    "#print(type(y2))\n",
    "z = 2 + 3j       # Complejos\n",
    "#print(type(z))\n",
    "\n",
    "# Es posible convertir una variable de un tipo a otro, pero algunos no pueden convertirse\n",
    "#print(float(x))\n",
    "#print(int(y2))\n",
    "#print(complex(y))\n",
    "#print(int(z))"
   ]
  },
  {
   "cell_type": "code",
   "execution_count": 14,
   "metadata": {},
   "outputs": [],
   "source": [
    "# Booleanos\n",
    "\n",
    "x = True\n",
    "y = False"
   ]
  },
  {
   "cell_type": "code",
   "execution_count": null,
   "metadata": {},
   "outputs": [],
   "source": [
    "# Secuencias\n",
    "\n",
    "x = \"Hola Mundo 123\"        # Strings\n",
    "y = [1 , 2 , 3 , 4 , 5]     # Listas\n",
    "z = (1 , 2 , 3 , 4 , 5)     # Tuplas"
   ]
  },
  {
   "cell_type": "code",
   "execution_count": 15,
   "metadata": {},
   "outputs": [
    {
     "name": "stdout",
     "output_type": "stream",
     "text": [
      "{1, 2, 3, 4, 5}\n",
      "{1, 2, 3, 4, 5}\n"
     ]
    }
   ],
   "source": [
    "# Conjuntos\n",
    "\n",
    "x = {1 , 2 , 3 , 4 , 5}\n",
    "y = {1, 2, 1, 3, 4, 1, 3, 5}\n",
    "\n",
    "print(x)\n",
    "print(y)"
   ]
  },
  {
   "cell_type": "code",
   "execution_count": null,
   "metadata": {},
   "outputs": [],
   "source": [
    "# Diccionarios\n",
    "\n",
    "x = {\"Ana\" : \"Profesora\" , \"Jorge\" : \"Director\" , \"Luis\" : \"Alumno/a\" , \"Marcela\" : \"Alumno/a\" }"
   ]
  },
  {
   "cell_type": "markdown",
   "metadata": {},
   "source": [
    "<a id=\"section2\"></a>\n",
    "<h2>2. Tipos de Operadores</h2>\n",
    "<hr>\n",
    "<h3>2.1 Operadores Aritméticos</h3>\n",
    "\n",
    "Las variables numéricas y strings pueden operarse mediante una serie de operadores aritméticos y matemáticos:"
   ]
  },
  {
   "cell_type": "code",
   "execution_count": 16,
   "metadata": {},
   "outputs": [
    {
     "name": "stdout",
     "output_type": "stream",
     "text": [
      "5 2\n"
     ]
    }
   ],
   "source": [
    "# Asignación de variables\n",
    "\n",
    "x = 5\n",
    "y = 2\n",
    "print(x, y)"
   ]
  },
  {
   "cell_type": "code",
   "execution_count": 17,
   "metadata": {},
   "outputs": [
    {
     "name": "stdout",
     "output_type": "stream",
     "text": [
      "7\n"
     ]
    }
   ],
   "source": [
    "# Suma\n",
    "\n",
    "z = x + y\n",
    "print(z)"
   ]
  },
  {
   "cell_type": "code",
   "execution_count": 18,
   "metadata": {},
   "outputs": [
    {
     "name": "stdout",
     "output_type": "stream",
     "text": [
      "3\n"
     ]
    }
   ],
   "source": [
    "# Resta\n",
    "\n",
    "z = x - y\n",
    "print(z)"
   ]
  },
  {
   "cell_type": "code",
   "execution_count": 19,
   "metadata": {},
   "outputs": [
    {
     "name": "stdout",
     "output_type": "stream",
     "text": [
      "10\n"
     ]
    }
   ],
   "source": [
    "# Multiplicación\n",
    "\n",
    "z = x * y\n",
    "print(z)"
   ]
  },
  {
   "cell_type": "code",
   "execution_count": 20,
   "metadata": {},
   "outputs": [
    {
     "name": "stdout",
     "output_type": "stream",
     "text": [
      "2.5\n"
     ]
    }
   ],
   "source": [
    "# División\n",
    "\n",
    "z = x / y\n",
    "print(z)"
   ]
  },
  {
   "cell_type": "code",
   "execution_count": 21,
   "metadata": {},
   "outputs": [
    {
     "name": "stdout",
     "output_type": "stream",
     "text": [
      "2\n"
     ]
    }
   ],
   "source": [
    "# División Entera\n",
    "\n",
    "z = x // y\n",
    "print(z)"
   ]
  },
  {
   "cell_type": "code",
   "execution_count": 22,
   "metadata": {},
   "outputs": [
    {
     "name": "stdout",
     "output_type": "stream",
     "text": [
      "1\n"
     ]
    }
   ],
   "source": [
    "# Resto Modular\n",
    "\n",
    "z = x % y\n",
    "print(z)"
   ]
  },
  {
   "cell_type": "code",
   "execution_count": 23,
   "metadata": {},
   "outputs": [
    {
     "name": "stdout",
     "output_type": "stream",
     "text": [
      "25\n"
     ]
    }
   ],
   "source": [
    "# Exponenciación\n",
    "\n",
    "z = x ** y\n",
    "print(z)"
   ]
  },
  {
   "cell_type": "code",
   "execution_count": 26,
   "metadata": {},
   "outputs": [
    {
     "name": "stdout",
     "output_type": "stream",
     "text": [
      "Hola mundo\n",
      "Ups, me salte otro\n"
     ]
    }
   ],
   "source": [
    "a = \"Hola\"\n",
    "b = \" \"\n",
    "c = \"mundo\"\n",
    "d = a + b + c\n",
    "#print(d)\n",
    "#e = \"\\n Ups, me salte un espacio\"\n",
    "#print(d + e)\n",
    "f = \"\\nUps, me salte otro\"\n",
    "print(d + f)"
   ]
  },
  {
   "cell_type": "markdown",
   "metadata": {},
   "source": [
    "<h3>2.2 Operadores Relacionales</h3>\n",
    "\n",
    "Los operadores relacionales nos permiten ver si dos variables o constantes cumplen una relación de orden o de equivalencia. Los valores booleanos son además el resultado de expresiones que utilizan operadores relacionales:"
   ]
  },
  {
   "cell_type": "code",
   "execution_count": 29,
   "metadata": {},
   "outputs": [],
   "source": [
    "# Asignación de variables\n",
    "\n",
    "x = 5\n",
    "y = 2"
   ]
  },
  {
   "cell_type": "code",
   "execution_count": 28,
   "metadata": {},
   "outputs": [
    {
     "data": {
      "text/plain": [
       "False"
      ]
     },
     "execution_count": 28,
     "metadata": {},
     "output_type": "execute_result"
    }
   ],
   "source": [
    "# Relación de igualdad\n",
    "\n",
    "x == y"
   ]
  },
  {
   "cell_type": "code",
   "execution_count": 30,
   "metadata": {},
   "outputs": [
    {
     "data": {
      "text/plain": [
       "True"
      ]
     },
     "execution_count": 30,
     "metadata": {},
     "output_type": "execute_result"
    }
   ],
   "source": [
    "# Relación de desigualdad\n",
    "\n",
    "x != y"
   ]
  },
  {
   "cell_type": "code",
   "execution_count": 32,
   "metadata": {},
   "outputs": [
    {
     "data": {
      "text/plain": [
       "True"
      ]
     },
     "execution_count": 32,
     "metadata": {},
     "output_type": "execute_result"
    }
   ],
   "source": [
    "# Relación de Mayor o igual\n",
    "\n",
    "x > y"
   ]
  },
  {
   "cell_type": "markdown",
   "metadata": {},
   "source": [
    "<h3>2.3 Operadores de Asignación</h3>\n",
    "\n",
    "Existe en Python todo un grupo de operadores los cuales le permiten básicamente asignar un valor a una variable, usando el operador “=”. Con estos operadores pueden aplicar la técnica denominada asignación aumentada."
   ]
  },
  {
   "cell_type": "code",
   "execution_count": null,
   "metadata": {},
   "outputs": [],
   "source": [
    "# Asignación de variables\n",
    "\n",
    "x = 5\n",
    "y = 5"
   ]
  },
  {
   "cell_type": "code",
   "execution_count": 33,
   "metadata": {},
   "outputs": [
    {
     "name": "stdout",
     "output_type": "stream",
     "text": [
      "a = 4 , b = -1\n",
      "c = 6 , d = 2.0\n",
      "e = 625 , f = 2\n"
     ]
    }
   ],
   "source": [
    "# Asignación aumentada/disminuida/multiplicada/dividida/potenciada/modulada\n",
    "a = 1\n",
    "b = 2\n",
    "c = 3\n",
    "d = 4\n",
    "e = 5\n",
    "f = 6\n",
    "\n",
    "a += 3   # a = a + 3\n",
    "b -= 3   # b = b - 3\n",
    "c *= 2   # c = c * 2\n",
    "d /= 2   # d = d / 2\n",
    "e **= 4  # e = e ** 4\n",
    "f %= 4   # f = f % 4\n",
    "print('a = ' + str(a), ', b = ' + str(b))\n",
    "print('c = ' + str(c), ', d = ' + str(d))\n",
    "print('e = ' + str(e), ', f = ' + str(f))"
   ]
  },
  {
   "cell_type": "markdown",
   "metadata": {},
   "source": [
    "<h3>2.4 Operadores de Pertenencia</h3>\n",
    "\n",
    "Este tipo de operadores evalúan si un objeto pertenece a otro. Hay dos: <b>in</b> y <b>not in</b>, que es el complementario del anterior. "
   ]
  },
  {
   "cell_type": "code",
   "execution_count": 39,
   "metadata": {},
   "outputs": [],
   "source": [
    "# Asignación de variables\n",
    "\n",
    "x = \"curso\"\n",
    "y = \"Bienvenidos al curso 8vo A\"\n",
    "\n",
    "n = 7\n",
    "z = [ 1 , 2 , 3 , 4 , 5]"
   ]
  },
  {
   "cell_type": "code",
   "execution_count": 40,
   "metadata": {},
   "outputs": [
    {
     "data": {
      "text/plain": [
       "True"
      ]
     },
     "execution_count": 40,
     "metadata": {},
     "output_type": "execute_result"
    }
   ],
   "source": [
    "# Operador in\n",
    "\n",
    "\"8\" in y"
   ]
  },
  {
   "cell_type": "code",
   "execution_count": 41,
   "metadata": {},
   "outputs": [
    {
     "name": "stdout",
     "output_type": "stream",
     "text": [
      "False\n",
      "True\n"
     ]
    }
   ],
   "source": [
    "# Operador  not in\n",
    "\n",
    "print(n in z)\n",
    "print(n not in z)"
   ]
  },
  {
   "cell_type": "markdown",
   "metadata": {},
   "source": [
    "<h3>2.5 Operadores Lógicos</h3>\n",
    "\n",
    "Python también incluye varios operadores lógicos: and, or y not. El primero devuelve True cuando ambos valores son True, el segundo devuelve True cuando algún valor es True, y el tercero devuelve True cuando el valor al que se aplica toma el valor False:"
   ]
  },
  {
   "cell_type": "code",
   "execution_count": 42,
   "metadata": {},
   "outputs": [
    {
     "name": "stdout",
     "output_type": "stream",
     "text": [
      "False True\n"
     ]
    }
   ],
   "source": [
    "# Asignación de variables\n",
    "\n",
    "x = (5 == 3)\n",
    "y = (7 <= 12)\n",
    "print(x, y)"
   ]
  },
  {
   "cell_type": "code",
   "execution_count": 46,
   "metadata": {},
   "outputs": [
    {
     "data": {
      "text/plain": [
       "False"
      ]
     },
     "execution_count": 46,
     "metadata": {},
     "output_type": "execute_result"
    }
   ],
   "source": [
    "# Conjunción and\n",
    "\n",
    "x and y"
   ]
  },
  {
   "cell_type": "code",
   "execution_count": 49,
   "metadata": {},
   "outputs": [
    {
     "data": {
      "text/plain": [
       "True"
      ]
     },
     "execution_count": 49,
     "metadata": {},
     "output_type": "execute_result"
    }
   ],
   "source": [
    "# Disyunción or\n",
    "\n",
    "x or y"
   ]
  },
  {
   "cell_type": "markdown",
   "metadata": {},
   "source": [
    "<h3>2.6 Operadores en listas</h3>\n",
    "\n",
    "Una lista puede entenderse como una sucesión finita de elementos, similar a una tupla o vector, donde cada elemento puede ser otra variable aceptada por Python. Cada elemento de la lista tiene una posición establecida, llamada índice. Así, se puede explorar una lista mediante sus índices. Además, una lista tiene una longitud dada por la cantidad de elementos que contiene, y se le puede agregar o remover elementos."
   ]
  },
  {
   "cell_type": "code",
   "execution_count": 50,
   "metadata": {},
   "outputs": [
    {
     "name": "stdout",
     "output_type": "stream",
     "text": [
      "['Wow', '4', 4, [1, 2, 3, 'a', 'b'], False]\n"
     ]
    }
   ],
   "source": [
    "# Definición de lista\n",
    "\n",
    "l1 = [1, 2, 3, 'a', 'b']\n",
    "l2 = ['Wow', '4', 4, l1, False]\n",
    "print(l2)\n"
   ]
  },
  {
   "cell_type": "code",
   "execution_count": 56,
   "metadata": {},
   "outputs": [
    {
     "name": "stdout",
     "output_type": "stream",
     "text": [
      "[2, 3]\n"
     ]
    }
   ],
   "source": [
    "# Acceder a longitud y elementos de la lista\n",
    "\n",
    "largo = len(l1)\n",
    "#print(largo)\n",
    "\n",
    "# Notar que el primer elemento tiene la etiqueta 0, el segundo tiene la etiqueta 1, y así\n",
    "# hasta el último elemento, con etiqueta largo-1\n",
    "\n",
    "primerelemento = l1[0]\n",
    "#print(primerelemento)\n",
    "\n",
    "segundoelemento = l1[1]\n",
    "#print(segundoelemento)\n",
    "\n",
    "ultimoelemento = l1[largo - 1]\n",
    "#print(ultimoelemento)\n",
    "\n",
    "ultimoelemento2 = l1[-1]\n",
    "#print(ultimoelemento2)\n",
    "\n",
    "algunoselementos = l1[1 : 3]\n",
    "#print(algunoselementos)\n"
   ]
  },
  {
   "cell_type": "code",
   "execution_count": 57,
   "metadata": {},
   "outputs": [
    {
     "name": "stdout",
     "output_type": "stream",
     "text": [
      "[1, 2, 3, 'a', 'b']\n",
      "[1, 2, 3, 'a', 'b', 6]\n"
     ]
    }
   ],
   "source": [
    "# Agregar elementos\n",
    "\n",
    "print(l1)\n",
    "valor = 6\n",
    "\n",
    "l1.append(valor)\n",
    "print(l1)"
   ]
  },
  {
   "cell_type": "code",
   "execution_count": 58,
   "metadata": {},
   "outputs": [
    {
     "name": "stdout",
     "output_type": "stream",
     "text": [
      "[1, 2, 3, 'a', 'b', 6]\n",
      "[1, 2, 3, 'a', 'b']\n"
     ]
    }
   ],
   "source": [
    "# Quitar elementos\n",
    "\n",
    "print(l1)\n",
    "\n",
    "l1.pop()\n",
    "print(l1)\n",
    "\n",
    "# Tarea: Si quiero agregar un elemento en medio de la lista, cómo lo hago?\n",
    "# Tarea2: Si quiero quitar un elemento cualquiera de la lista, cómo lo hago?"
   ]
  },
  {
   "cell_type": "markdown",
   "metadata": {},
   "source": [
    "<a id=\"section3\"></a>\n",
    "<h2>3. Sentencias Condicionales</h2>\n",
    "<hr>\n",
    "La sentencia condicional if nos permite comprobar si se cumple una cierta condición con el fin de ejecutar un proceso u otro. En su forma más simple se utiliza la palabra reservada if seguida de la condición a probar y dos puntos.\n",
    "\n",
    "Si queremos especificar qué código hay que ejecutar en el caso de que la condición no se cumpla podemos añadir la sentencia else, además podemos añadir tantas instrucciones elif como deseemos. Se evaluarán en orden y así que se cumpla una de las condiciones:"
   ]
  },
  {
   "cell_type": "code",
   "execution_count": null,
   "metadata": {
    "code_folding": []
   },
   "outputs": [],
   "source": [
    "# Sentencia condicional\n",
    "\n",
    "n = 0\n",
    "\n",
    "if n > 0:\n",
    "    print(\"El número es positivo\")\n",
    "    \n",
    "elif n < 0:\n",
    "    print(\"El número es negativo\")\n",
    "    \n",
    "else:\n",
    "    print(\"El número es 0\")"
   ]
  },
  {
   "cell_type": "markdown",
   "metadata": {},
   "source": [
    "<a id=\"section4\"></a>\n",
    "<h2>4. Ciclos</h2>\n",
    "<hr>\n",
    "En Python se pueden utilizar dos tipos de ciclos, los for y while. Se utilizan los ciclos for cuando conoces la cantidad de repeticiones y los ciclos while cuando la cantidad de repeticiones depende de que se cumpla una condición.\n",
    "<hr>\n",
    "<h3>4.1 Ciclos for</h3>\n",
    "\n",
    "El ciclo for nos permite ejecutar un proceso un número determinado de veces o para un conjunto determinado de valores:"
   ]
  },
  {
   "cell_type": "code",
   "execution_count": null,
   "metadata": {},
   "outputs": [],
   "source": [
    "L = [1 , 2 , 3 , 4 , 5]\n",
    "\n",
    "for i in L:\n",
    "    print(i)"
   ]
  },
  {
   "cell_type": "markdown",
   "metadata": {},
   "source": [
    "<h3>4.2 Ciclos while</h3>\n",
    "\n",
    "Al contrario de lo que ocurre con los ciclos for, los bucles while no se repiten un número determinado de veces, sino mientras se cumpla una condición."
   ]
  },
  {
   "cell_type": "code",
   "execution_count": null,
   "metadata": {},
   "outputs": [],
   "source": [
    "x = 1\n",
    "while (x <= 5):\n",
    "    print(x)\n",
    "    x+=1"
   ]
  },
  {
   "cell_type": "markdown",
   "metadata": {},
   "source": [
    "<a id=\"section5\"></a>\n",
    "<h2>5. Funciones</h2>\n",
    "<hr>\n",
    "Un elemento extremadamente útil es la posibilidad de definir y usar funciones. Si bien existen funciones definidas por Python y que nos ofrecen una funcionalidad concreta que no siempre va a adaptarse a nuestras necesidades, Python nos permite definir nuestra propias funciones, lo que tiene dos grandes ventajas:\n",
    "\n",
    "* Nos evita tener que escribir el mismo código una y otra vez en nuestros programas. En lugar de esto movemos ese código a la función e invocamos ésta con los argumentos adecuados cada vez que queramos ejecutar esas instrucciones.\n",
    "* También nos permiten sacar más provecho de nuestro trabajo al poder reutilizar estas funciones en nuestros programas.\n",
    "\n",
    "<h3>5.1 Funciones predefinidas</h3>\n",
    "\n",
    "Tenemos una serie de funciones predefinidas en Python que nos ayudan a expandir más lo que podemos hacer con este lenguaje:\n",
    "\n",
    "* La entrada y salida de información se hacen con la función `print` y la función `input`:\n",
    "* Tenemos algunas funciones matemáticas como: `abs`, `divmod`, `hex`, `max`, `min`,...\n",
    "* Hay funciones que trabajan con caracteres y cadenas: `ascii`, `chr`, `format`, `repr`,...\n",
    "* Además tenemos funciones que crean o convierten a determinados tipos de datos: `int`, `float`, `str`, `bool`, `range`, `dict`, `list`, ...\n",
    "\n",
    "<h3>5.2 Creando nuestras propias funciones</h3>\n",
    "\n",
    "En su forma más simple, la función es llamada sin ningún argumento y no devuelve ningún valor, simplemente ejecuta el código que contiene:"
   ]
  },
  {
   "cell_type": "code",
   "execution_count": null,
   "metadata": {},
   "outputs": [],
   "source": [
    "def saludar():\n",
    "    print(\"Hola\")"
   ]
  },
  {
   "cell_type": "code",
   "execution_count": null,
   "metadata": {},
   "outputs": [],
   "source": [
    "saludar()"
   ]
  },
  {
   "cell_type": "markdown",
   "metadata": {},
   "source": [
    "También podemos crear funciones que exijan uno o mas argumentos para ejecutarse:"
   ]
  },
  {
   "cell_type": "code",
   "execution_count": null,
   "metadata": {},
   "outputs": [],
   "source": [
    "def saludar(nombre):\n",
    "    print(\"Hola {}\".format(nombre))"
   ]
  },
  {
   "cell_type": "code",
   "execution_count": null,
   "metadata": {},
   "outputs": [],
   "source": [
    "saludar(\"Jose\")"
   ]
  },
  {
   "cell_type": "markdown",
   "metadata": {},
   "source": [
    "<a id=\"section6\"></a>\n",
    "<h2>6. Ejercicios</h2>\n",
    "<hr>\n",
    "Ahora ejercitemos un poco con 6 ejercicios:"
   ]
  },
  {
   "cell_type": "markdown",
   "metadata": {},
   "source": [
    "### 6.1 Ejercicio 1\n",
    "\n",
    "Escriba un programa que encuentre todos los números divisibles por 7 pero que no son múltiplos de 5 entre el 2000 y el 3500 (Ambos incluidos). Debe mostrar los números separados por una coma.\n",
    "\n",
    "\n",
    "<!-- The answer is below:\n",
    "\n",
    "l=[]\n",
    "for i in range(2000, 3201):\n",
    "    if (i%7==0) and (i%5!=0):\n",
    "        l.append(str(i))\n",
    "\n",
    "print ','.join(l)\n",
    "\n",
    "-->"
   ]
  },
  {
   "cell_type": "code",
   "execution_count": null,
   "metadata": {},
   "outputs": [],
   "source": [
    "L = [ ]\n",
    "X = list(range(2000,3500))\n",
    "\n",
    "for i in X:\n",
    "    if (i % 7 == 0) and (i % 5 != 0):\n",
    "        L.append(i)\n",
    "    else:\n",
    "        pass\n",
    "\n",
    "print(L)"
   ]
  },
  {
   "cell_type": "markdown",
   "metadata": {},
   "source": [
    "### 6.2 Ejercicio 2\n",
    "\n",
    "Escriba un programa que encuentre todos los números entre 1000 y 3000 (Ambos incluidos) donde cada digito es un número par. Debe mostrar los números separados por una coma.\n",
    "\n",
    "\n",
    "<!-- The answer is below:\n",
    "\n",
    "values = []\n",
    "for i in range(1000, 3001):\n",
    "    s = str(i)\n",
    "    if (int(s[0])%2==0) and (int(s[1])%2==0) and (int(s[2])%2==0) and (int(s[3])%2==0):\n",
    "        values.append(s)\n",
    "print \",\".join(values)\n",
    "\n",
    "-->\n"
   ]
  },
  {
   "cell_type": "code",
   "execution_count": null,
   "metadata": {},
   "outputs": [],
   "source": [
    "L = []\n",
    "X = list(range(1000,3000))\n",
    "\n",
    "for i in X:\n",
    "    string = str(i)\n",
    "    if (int(string[0]) % 2 == 0) and (int(string[1]) % 2 == 0) and (int(string[2]) % 2 == 0) and (int(string[3]) % 2 == 0):\n",
    "        L.append(string)\n",
    "    else:\n",
    "        pass\n",
    "\n",
    "print(L)"
   ]
  },
  {
   "cell_type": "markdown",
   "metadata": {},
   "source": [
    "### 6.3 Ejercicio 3\n",
    "\n",
    "Escribir un programa que calcule su balance en la cuenta de banco basado en su historial de transacciones entregado por un input. El historial de transacciones tiene el siguiente formato:\n",
    "\n",
    "- D 100\n",
    "- W 200\n",
    "\n",
    "D significa depósito mientras W significa retiro.\n",
    "\n",
    "Si suponemos que le ingresamos las siguientes transacciones al programa:\n",
    "\n",
    "- D 300\n",
    "- D 300\n",
    "- W 200\n",
    "- D 100\n",
    "\n",
    "Entonces el programa debe mostrarnos\n",
    "\n",
    "- Su balance es de 500\n",
    "\n",
    "<!-- The answer is below:\n",
    "\n",
    "netAmount = 0\n",
    "while True:\n",
    "    s = raw_input()\n",
    "    if not s:\n",
    "        break\n",
    "    values = s.split(\" \")\n",
    "    operation = values[0]\n",
    "    amount = int(values[1])\n",
    "    if operation==\"D\":\n",
    "        netAmount+=amount\n",
    "    elif operation==\"W\":\n",
    "        netAmount-=amount\n",
    "    else:\n",
    "        pass\n",
    "print netAmount\n",
    "\n",
    "-->"
   ]
  },
  {
   "cell_type": "code",
   "execution_count": null,
   "metadata": {},
   "outputs": [],
   "source": []
  },
  {
   "cell_type": "markdown",
   "metadata": {},
   "source": [
    "### 6.4 Ejercicio 4\n",
    "\n",
    "Dado un número entero \"n\", escriba un programa que genere un diccionarion que contenga los pares (i, i**2), donde i es un número entero entre 1 y n (ambos incluidos), y que luego imprima el diccionario.\n",
    "\n",
    "Supongamos que uno le entrega al programa el entero 8, entonces el programa debe mostrarnos:\n",
    "\n",
    "{1: 1, 2: 4, 3: 9, 4: 16, 5: 25, 6: 36, 7: 49, 8: 64}\n",
    "\n",
    "\n",
    "\n",
    "<!-- The answer is below:\n",
    "\n",
    "n=int(raw_input())\n",
    "d=dict()\n",
    "for i in range(1,n+1):\n",
    "    d[i]=i*i\n",
    "\n",
    "print d\n",
    "\n",
    "\n",
    "-->\n",
    "\n"
   ]
  },
  {
   "cell_type": "code",
   "execution_count": null,
   "metadata": {},
   "outputs": [],
   "source": []
  },
  {
   "cell_type": "markdown",
   "metadata": {},
   "source": [
    "### 6.5 Ejercicio 5\n",
    "\n",
    "Defina una función que reciba un número enter como argumento, y diga si el número es par o impar.\n",
    "\n",
    "\n",
    "<!-- The answer is below:\n",
    "\n",
    "def checkValue(n):\n",
    "\tif n%2 == 0:\n",
    "\t\tprint \"It is an even number\"\n",
    "\telse:\n",
    "\t\tprint \"It is an odd number\"\n",
    "\t\t\n",
    "\n",
    "checkValue(7)\n",
    "\n",
    "\n",
    "-->"
   ]
  },
  {
   "cell_type": "code",
   "execution_count": null,
   "metadata": {},
   "outputs": [],
   "source": []
  },
  {
   "cell_type": "markdown",
   "metadata": {},
   "source": [
    "### 6.6 Ejercicio 6\n",
    "\n",
    "Dada una lista cualquiera de números enteros, escriba un programa que remueva todos los duplicados de la lista pero que conserve el orden original de los elementos:\n",
    "\n",
    "\n",
    "<!-- The answer is below:\n",
    "\n",
    "def removeDuplicate( li ):\n",
    "    newli=[]\n",
    "    seen = set()\n",
    "    for item in li:\n",
    "        if item not in seen:\n",
    "            seen.add( item )\n",
    "            newli.append(item)\n",
    "\n",
    "    return newli\n",
    "\n",
    "li=[12,24,35,24,88,120,155,88,120,155]\n",
    "print removeDuplicate(li)\n",
    "\n",
    "-->"
   ]
  },
  {
   "cell_type": "code",
   "execution_count": null,
   "metadata": {},
   "outputs": [],
   "source": []
  }
 ],
 "metadata": {
  "kernelspec": {
   "display_name": "Python 3",
   "language": "python",
   "name": "python3"
  },
  "language_info": {
   "codemirror_mode": {
    "name": "ipython",
    "version": 3
   },
   "file_extension": ".py",
   "mimetype": "text/x-python",
   "name": "python",
   "nbconvert_exporter": "python",
   "pygments_lexer": "ipython3",
   "version": "3.7.7"
  }
 },
 "nbformat": 4,
 "nbformat_minor": 4
}

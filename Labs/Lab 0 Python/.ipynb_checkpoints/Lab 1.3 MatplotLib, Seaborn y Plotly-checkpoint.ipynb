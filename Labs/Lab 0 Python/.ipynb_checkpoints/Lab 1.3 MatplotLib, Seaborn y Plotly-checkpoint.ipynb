{
 "cells": [
  {
   "cell_type": "markdown",
   "metadata": {},
   "source": [
    "<p><img alt=\"DataOwl\" width=150 src=\"http://gwsolutions.cl/Images/dataowl.png\", align=\"left\", hspace=0, vspace=5></p>\n",
    "\n",
    "<h1 align=\"center\">Visualización</h1>\n",
    "\n",
    "<h4 align=\"center\">Matplotlib, Seaborn y Plotly</h4>\n",
    "<pre><div align=\"center\"> La idea de este notebook es que sirva para iniciarse en la visualización de datos.</div>\n",
    "\n",
    "\n",
    "<div align=\"right\"> En términos de código y estructura, este notebook esta basado en los notebooks \n",
    "<a href=\"https://www.kaggle.com/subinium/simple-matplotlib-visualization-tips\">Simple Matplotlib Visualization Tips</a>, <a href=\"https://www.kaggle.com/kanncaa1/seaborn-tutorial-for-beginners\">SeaBorn Tutorial for Beginners</a>.\n",
    "\n",
    "\n",
    ".</div></pre>"
   ]
  },
  {
   "cell_type": "markdown",
   "metadata": {},
   "source": [
    "## Visualización de datos\n",
    "\n",
    "La visualización de datos es la disciplina de tratar de comprender los datos colocándolos en un contexto visual para que los patrones, las tendencias y las correlaciones que de otro modo no podrían detectarse puedan quedar expuestos.\n",
    "\n",
    "<p><img alt=\"COVID\" width=600 src=\"https://miro.medium.com/max/700/1*N0tRnDv63278HUKF_dE4HA.png\", align=\"center\", hspace=0, vspace=5></p>\n",
    "\n",
    "Python ofrece múltiples librerías de visualización, cada una con muchas características diferentes. No importa si desea crear trazados interactivos, en vivo o altamente personalizados, Python tiene una excelente biblioteca para cada gusto y uso.\n",
    "\n",
    "Nos centraremos en introducir tres librerías en este laboratorio: **Matplotlib**, **Seaborn** y **Plotly**."
   ]
  },
  {
   "cell_type": "markdown",
   "metadata": {},
   "source": [
    "<h3>Secciones</h3>\n",
    "\n",
    "<div class=\"alert alert-danger\" role=\"alert\">\n",
    "<ol>\n",
    "    <li><a href=\"#section1\"> Matplotlib </a></li>\n",
    "    <li><a href=\"#section2\"> Seaborn </a></li>\n",
    "    <li><a href=\"#section4\"> Plotly </a></li>\n",
    "</ol>\n",
    "</div>\n",
    "<hr>"
   ]
  },
  {
   "cell_type": "markdown",
   "metadata": {},
   "source": [
    "<a id=\"section1\"></a>\n",
    "<h1> 1. Matplotlib </h1>\n",
    "    \n",
    "Matplotlib es la O.G. de las librerías de visualización de datos de Python. A pesar de tener más de una década, sigue siendo la biblioteca más utilizada para graficar en la comunidad Python; fue diseñado para parecerse mucho a MATLAB, un lenguaje de programación patentado desarrollado en la década de 1980.\n",
    "\n",
    "Debido a que Matplotlib fue la primera librería de visualización de datos de Python, muchas otras librerías están construidas sobre ella o diseñadas para trabajar en conjunto con ella durante el análisis.\n",
    "\n",
    "<p><img alt=\"Pandas\" width=150 src=\"https://upload.wikimedia.org/wikipedia/commons/thumb/8/84/Matplotlib_icon.svg/1200px-Matplotlib_icon.svg.png\", align=\"right\", hspace=0, vspace=5></p>\n",
    "\n",
    "Si bien Matplotlib es bueno para tener una idea de los datos, no es muy útil para crear gráficos de calidad de publicación de manera rápida y fácil.\n",
    "\n",
    "Para instalar la librería puede hacerse a través del comando **pip** o el comando **conda** en la consola de comandos:\n",
    "\n",
    "\n",
    "\n",
    "```cmd\n",
    "conda install matplotlib\n",
    "\n",
    "pip install matplotlib\n",
    "```"
   ]
  },
  {
   "cell_type": "code",
   "execution_count": null,
   "metadata": {
    "code_folding": [
     0
    ]
   },
   "outputs": [],
   "source": [
    "# Importando las librerías\n",
    "\n",
    "import pandas as pd\n",
    "import numpy as np\n",
    "\n",
    "\n",
    "import matplotlib as mpl\n",
    "import matplotlib.pyplot as plt\n",
    "import matplotlib.path as mpath\n",
    "import matplotlib.lines as mlines\n",
    "import matplotlib.patches as mpatches\n",
    "from matplotlib.collections import PatchCollection\n",
    "from matplotlib.ticker import FuncFormatter\n",
    "\n",
    "import seaborn as sns # theme & dataset"
   ]
  },
  {
   "cell_type": "markdown",
   "metadata": {},
   "source": [
    "El código a continuación es para el preprocesamiento de los datos que utilizaremos en las visualizaciones"
   ]
  },
  {
   "cell_type": "code",
   "execution_count": null,
   "metadata": {
    "code_folding": [
     0
    ]
   },
   "outputs": [],
   "source": [
    "# Preprocesamiento de datos\n",
    "\n",
    "\n",
    "# Títulos de Netflix\n",
    "\n",
    "netflix_titles = pd.read_csv(\"https://raw.githubusercontent.com/R-Ladies-Warsaw/PoweR/master/Cz%C4%99%C5%9B%C4%87%201%20-%20Podstawy%20j%C4%99zyka/R/netflix_titles.csv\")\n",
    "netflix_date = netflix_titles[['date_added']].dropna()\n",
    "netflix_date['year'] = netflix_date['date_added'].apply(lambda x : x.split(', ')[-1])\n",
    "netflix_date['month'] = netflix_date['date_added'].apply(lambda x : x.lstrip().split(' ')[0])\n",
    "\n",
    "def mes(x):\n",
    "    if x == \"January\": return \"Enero\"\n",
    "    elif x == \"February\": return \"Febrero\"\n",
    "    elif x == \"March\": return \"Marzo\"\n",
    "    elif x == \"April\": return \"Abril\"\n",
    "    elif x == \"May\": return \"Mayo\"\n",
    "    elif x == \"June\": return \"Junio\"\n",
    "    elif x == \"July\": return \"Julio\"\n",
    "    elif x == \"August\": return \"Agosto\"\n",
    "    elif x == \"September\": return \"Septiembre\"\n",
    "    elif x == \"October\": return \"Octubre\"\n",
    "    elif x == \"November\": return \"Noviembre\"\n",
    "    elif x == \"December\": return \"Diciembre\"\n",
    "    else: return x\n",
    "    \n",
    "netflix_date['month'] = netflix_date['month'].apply(mes)\n",
    "\n",
    "month_order = ['Enero', 'Febrero', 'Marzo', 'Abril', 'Mayo', 'Junio', 'Julio', 'Agosto', 'Septiembre', 'Octubre', 'Noviembre', 'Diciembre'][::-1]\n",
    "df = netflix_date.groupby('year')['month'].value_counts().unstack().fillna(0)[month_order].T\n",
    "\n",
    "movie = netflix_titles[netflix_titles['type'] == 'Movie']    \n",
    "rating_order =  ['G', 'TV-Y', 'TV-G', 'PG', 'TV-Y7', 'TV-Y7-FV', 'TV-PG', 'PG-13', 'TV-14', 'R', 'NC-17', 'TV-MA']\n",
    "movie_rating = movie['rating'].value_counts()[rating_order]    \n",
    "\n",
    "\n",
    "# Sobrevivientes Titanic\n",
    "\n",
    "def age_band(num):\n",
    "    for i in range(1, 100):\n",
    "        if num < 10*i : \n",
    "            return f'under {i*10}'\n",
    " \n",
    "titanic_train = pd.read_csv(\"https://raw.githubusercontent.com/pcsanwald/kaggle-titanic/master/train.csv\")\n",
    "titanic_train['age_band'] = titanic_train['age'].apply(age_band)\n",
    "titanic_age = titanic_train[['age_band', 'survived']].groupby('age_band')['survived'].value_counts().sort_index().unstack().fillna(0)\n",
    "\n",
    "titanic_age['survival rate'] = titanic_age[1] / (titanic_age[0] + titanic_age[1]) * 100\n",
    "\n",
    "\n",
    "# Desempeño de estudiantes\n",
    "\n",
    "exam_data = pd.read_csv(\"https://raw.githubusercontent.com/Jakki-SP/Datasets/master/StudentsPerformance.csv\")\n"
   ]
  },
  {
   "cell_type": "markdown",
   "metadata": {},
   "source": [
    "### 1.0 Configuraciones iniciales\n",
    "\n",
    "Algo que rara vez se hace y debiera ser necesario antes de cualquier visualización en notebooks, es establecer la resolución a través de la configuración **dpi** (Dots per inche) de la figura. Matplotlib tiene una resolución predeterminada baja, por lo que configurarla a medida hace que los gráficos se vean más profesionales."
   ]
  },
  {
   "cell_type": "code",
   "execution_count": null,
   "metadata": {
    "code_folding": [
     0
    ]
   },
   "outputs": [],
   "source": [
    "# Estableciendo la resolución de las figuras\n",
    "\n",
    "plt.rcParams['figure.dpi'] = 60"
   ]
  },
  {
   "cell_type": "markdown",
   "metadata": {},
   "source": [
    "Existe una cierta anatomía de una figura realizada con matplotlib (Y con cualquier librería de visualización), la cual podemos apreciar a priori en la siguiente imagen.\n",
    "\n",
    "<p><img alt=\"COVID\" width=600 src=\"https://scontent.fscl6-1.fna.fbcdn.net/v/t1.0-9/101147394_10223322201184885_7931971586804940800_n.jpg?_nc_cat=100&_nc_sid=8024bb&_nc_ohc=7s50oZWJPegAX97cGCE&_nc_ht=scontent.fscl6-1.fna&oh=bb8b9a6a22cf1564b02d3a5d3144c1a5&oe=5F00954B\", align=\"center\", hspace=0, vspace=5></p>\n"
   ]
  },
  {
   "cell_type": "markdown",
   "metadata": {},
   "source": [
    "### 1.1 Gráficos básicos\n",
    "\n",
    "Lo primero que haremos es plotear dos vectores de la misma dimensión, uno correspondiente al **eje x** y otro al **eje y**. Este es el gráfico más básico que podemos obtener con Matplotlib."
   ]
  },
  {
   "cell_type": "code",
   "execution_count": null,
   "metadata": {
    "code_folding": [
     0
    ]
   },
   "outputs": [],
   "source": [
    "# Gráfico de linea en 2D\n",
    "\n",
    "x = [2 , 4 , 6 , 8]\n",
    "y = [5 , 6 , 2 , 9]\n",
    "\n",
    "plt.plot(x,y)"
   ]
  },
  {
   "cell_type": "markdown",
   "metadata": {},
   "source": [
    "Podemos añadir un color distinto a la linea que graficamos anteriormente mediante el argumento opcional **color**."
   ]
  },
  {
   "cell_type": "code",
   "execution_count": null,
   "metadata": {
    "code_folding": [
     0
    ]
   },
   "outputs": [],
   "source": [
    "# Agregando color\n",
    "\n",
    "x = [2 , 4 , 6 , 8]\n",
    "y = [5 , 6 , 2 , 9]\n",
    "\n",
    "plt.plot( x , y , color = 'red')"
   ]
  },
  {
   "cell_type": "markdown",
   "metadata": {},
   "source": [
    "Además podemos darle más características al gráfico, asi como título, leyenda y ejes, no obstante debemos definirlos como nuevos elementos para añadirlos a este."
   ]
  },
  {
   "cell_type": "code",
   "execution_count": null,
   "metadata": {
    "code_folding": [
     0
    ]
   },
   "outputs": [],
   "source": [
    "# Agregando título, leyenda y ejes\n",
    "\n",
    "x = [2 , 4 , 6 , 8]\n",
    "y = [5 , 6 , 2 , 9]\n",
    "\n",
    "plt.plot( x , y , color = 'red', label = 'Mi linea', marker = 'o', linestyle = '--')\n",
    "plt.title('Mi gráfico', color = 'blue')\n",
    "\n",
    "plt.legend()\n",
    "plt.xlabel('Eje x', color = 'green')\n",
    "plt.ylabel('Eje y', color = 'green')\n"
   ]
  },
  {
   "cell_type": "markdown",
   "metadata": {},
   "source": [
    "Y no solo podemos gráficar vectores, sino también funciones que ya esten definidas en librerías como numpy, o en funciones que nosotros mismos programemos."
   ]
  },
  {
   "cell_type": "code",
   "execution_count": null,
   "metadata": {
    "code_folding": [
     0
    ]
   },
   "outputs": [],
   "source": [
    "# Graficando las funciones seno y coseno\n",
    "\n",
    "\n",
    "x = np.linspace(0,10,50)\n",
    "\n",
    "plt.plot(x, np.sin(x), label='Seno(x)', color = 'blue')\n",
    "\n",
    "plt.plot(x, np.cos(x), label='Coseno(x)', color = 'red', linestyle = ':')\n",
    "\n",
    "plt.xlabel('x', fontsize=15, color='green')\n",
    "plt.ylabel('sin(x)', fontsize=15, color='green')\n",
    "plt.legend()\n",
    "plt.title('Graficando funciones') "
   ]
  },
  {
   "cell_type": "markdown",
   "metadata": {},
   "source": [
    "### 1.2 Múltiples gráficos\n",
    "\n",
    "Podemos utilizar la función **subplots** para poner varios gráficos en la misma figura, separando cada gráfico en su propio box de ejes."
   ]
  },
  {
   "cell_type": "code",
   "execution_count": null,
   "metadata": {
    "code_folding": [
     0
    ]
   },
   "outputs": [],
   "source": [
    "# Ejemplo de subplot\n",
    "\n",
    "plt.rcParams['figure.dpi'] = 80\n",
    "fig, axes = plt.subplots(2, 3, figsize=(8, 5))\n",
    "plt.tight_layout()\n",
    "plt.show()"
   ]
  },
  {
   "cell_type": "markdown",
   "metadata": {},
   "source": [
    "¿Pero que pasa si quiero distintas cajas de distintos tamaños?\n",
    "Por ejemplo, los gráficos de barras y los gráficos circulares suelen ser muy diferentes en relación. En este caso, el diseño debe ser diferente; para esto se puede cambiar y manipular fácilmente el sistema de cuadrícula usando la función **subplot2grid**."
   ]
  },
  {
   "cell_type": "code",
   "execution_count": null,
   "metadata": {
    "code_folding": [
     0
    ]
   },
   "outputs": [],
   "source": [
    "# Manipulando subplots\n",
    "\n",
    "fig = plt.figure(figsize=(8, 5)) \n",
    "\n",
    "ax = [None for _ in range(6)] \n",
    "\n",
    "ax[0] = plt.subplot2grid((3,4), (0,0), colspan=4)\n",
    "ax[1] = plt.subplot2grid((3,4), (1,0), colspan=1)\n",
    "ax[2] = plt.subplot2grid((3,4), (1,1), colspan=1)\n",
    "ax[3] = plt.subplot2grid((3,4), (1,2), colspan=1)\n",
    "ax[4] = plt.subplot2grid((3,4), (1,3), colspan=1,rowspan=2)\n",
    "ax[5] = plt.subplot2grid((3,4), (2,0), colspan=3)\n",
    "\n",
    "\n",
    "for ix in range(6): \n",
    "    ax[ix].set_title('ax[{}]'.format(ix)) \n",
    "    ax[ix].set_xticks([])\n",
    "    ax[ix].set_yticks([]) \n",
    "    \n",
    "fig.tight_layout()\n",
    "plt.show()"
   ]
  },
  {
   "cell_type": "markdown",
   "metadata": {},
   "source": [
    "### 1.3 Mapas de colores\n",
    "\n",
    "El color es una de las cosas más importantes en un gráfico. Por supuesto, el equipo de matplotlib ya ha creado una buena paleta de colores, y solo necesitamos usarla. Entre las 4 categorías más utilizadas de paletas de colores encontramos la **divergente**, la **cualitativa**, la **continua** y la **científica**.\n",
    "\n",
    "<hr>\n",
    "\n",
    " * <u>Mapa de colores **divergente**</u>\n",
    " \n",
    "     - Este mapa de colores se usa generalmente en visualizaciones donde la mediana es obvia.\n",
    " \n",
    "     - Generalmente se visualiza sobre un fondo blanco, blanco en el centro y de color más oscuro hacia ambos extremos. En otras palabras, cuanto más claro sea el valor, más cerca del centro, más oscuro, más cerca del final.\n",
    " \n",
    "     - Útil para expresar sesgo, como la correlación y la disposición política.\n",
    " \n",
    "     - Si bien es un mapa de colores continuo, también puede usar una paleta de colores discreta dependiendo del intervalo."
   ]
  },
  {
   "cell_type": "code",
   "execution_count": null,
   "metadata": {
    "code_folding": [
     0
    ]
   },
   "outputs": [],
   "source": [
    "# Función para plotear un colormap\n",
    "\n",
    "def cmap_plot(cmap_list, ctype):\n",
    "    cmaps = cmap_list\n",
    "\n",
    "    n = len(cmaps)\n",
    "\n",
    "    fig = plt.figure(figsize=(8.25, n*.20), dpi=150)\n",
    "    ax = plt.subplot(1, 1, 1, frameon=False, xlim=[0,10], xticks=[], yticks=[])\n",
    "    fig.subplots_adjust(top=0.99, bottom=0.01, left=0.18, right=0.99)\n",
    "\n",
    "    y, dy, pad = 0, 0.3, 0.08\n",
    "\n",
    "    ticks, labels = [], []\n",
    "\n",
    "    for cmap in cmaps[::-1]:\n",
    "        Z = np.linspace(0,1,512).reshape(1,512)\n",
    "        plt.imshow(Z, extent=[0,10,y,y+dy], cmap=plt.get_cmap(cmap))\n",
    "        ticks.append(y+dy/2)\n",
    "        labels.append(cmap)\n",
    "        y = y + dy + pad\n",
    "\n",
    "    ax.set_ylim(-pad,y)\n",
    "    ax.set_yticks(ticks)\n",
    "    ax.set_yticklabels(labels)\n",
    "\n",
    "    ax.tick_params(axis='y', which='both', length=0, labelsize=5)\n",
    "    plt.title(f'Colormap {ctype}', fontweight='bold', fontsize=8)\n",
    "    plt.show()"
   ]
  },
  {
   "cell_type": "code",
   "execution_count": null,
   "metadata": {
    "code_folding": [
     0
    ]
   },
   "outputs": [],
   "source": [
    "# Ploteando colormap divergente\n",
    "\n",
    "diverge_cmap = ('PRGn', 'PiYG', 'RdYlGn', 'BrBG', 'RdGy', 'PuOr', 'RdBu', 'RdYlBu',  'Spectral', 'coolwarm_r', 'bwr_r', 'seismic_r')\n",
    "cmap_plot(diverge_cmap, 'Divergente')"
   ]
  },
  {
   "cell_type": "markdown",
   "metadata": {},
   "source": [
    "* <u>Mapa de colores **cualitativo**</u>\n",
    " \n",
    "     - Una paleta de colores independientes, a menudo utilizada para variables categóricas.\n",
    " \n",
    "     - Se recomienda organizar hasta 10 colores y agrupar pequeñas categorías con otras.\n",
    " \n",
    "     - La repetición de colores puede ser confusa, así que trate de evitar la superposición lo más posible. Es una buena idea cambiar de color a color en lugar de saturación y brillo."
   ]
  },
  {
   "cell_type": "code",
   "execution_count": null,
   "metadata": {
    "code_folding": [
     0
    ]
   },
   "outputs": [],
   "source": [
    "# Ploteando colormap cualitativo\n",
    "\n",
    "qualitative_cmap = ('tab10', 'tab20', 'tab20b', 'tab20c', 'Pastel1', 'Pastel2', 'Paired', 'Set1', 'Set2', 'Set3', 'Accent', 'Dark2' )\n",
    "cmap_plot(qualitative_cmap, 'Cualitativo')"
   ]
  },
  {
   "cell_type": "markdown",
   "metadata": {},
   "source": [
    "* <u>Mapa de colores **continuo**</u>\n",
    " \n",
    "     - Esta paleta es apropiada para variables con números o valores ordenados.\n",
    " \n",
    "     - Usado mucho en comparación de cifras. Especialmente eficaz para expresar densidad. Aproveche los gráficos de mapas para una mejor visualización.\n",
    "     \n",
    "     - Similar a divergente, pero con una parte ligeramente diferente porque cada punto final es un criterio de color, no la mediana. Por lo general, indica que los valores de luz son oscuros en fondos oscuros y valores oscuros en fondos claros.\n",
    "     \n",
    "     - Se recomienda usar un solo tono para el color.\n",
    "     \n",
    "     - Al igual que la divergente, también se puede usar en forma discreta."
   ]
  },
  {
   "cell_type": "code",
   "execution_count": null,
   "metadata": {
    "code_folding": [
     0
    ]
   },
   "outputs": [],
   "source": [
    "# Ploteando colormap continuo\n",
    "\n",
    "sequential_cmap = ('Greys', 'Reds', 'Oranges', \n",
    "         'YlOrBr', 'YlOrRd', 'OrRd', 'PuRd', 'RdPu', 'BuPu',\n",
    "         'Purples', 'YlGnBu', 'Blues', 'PuBu', 'GnBu', 'PuBuGn', 'BuGn',\n",
    "         'Greens', 'YlGn','bone', 'gray', 'pink', 'afmhot', 'hot', 'gist_heat', 'copper', \n",
    "         'Wistia', 'autumn_r', 'summer_r', 'spring_r', 'cool', 'winter_r')            \n",
    "cmap_plot(sequential_cmap, 'Continuo')"
   ]
  },
  {
   "cell_type": "markdown",
   "metadata": {},
   "source": [
    " * <u>Mapa de colores **científico**</u>\n",
    " \n",
    "     - Utilizado en gráficos científicos."
   ]
  },
  {
   "cell_type": "code",
   "execution_count": null,
   "metadata": {
    "code_folding": [
     0
    ]
   },
   "outputs": [],
   "source": [
    "# Ploteando colormap científico\n",
    "\n",
    "scientific_cmap = ('viridis', 'plasma', 'inferno', 'magma')\n",
    "cmap_plot(scientific_cmap, 'científico')"
   ]
  },
  {
   "cell_type": "markdown",
   "metadata": {},
   "source": [
    "Veamos a continuación un ejemplo utilizando un colormap, en donde analizaremos las actualizaciones de contenido de la plataforma Netflix."
   ]
  },
  {
   "cell_type": "code",
   "execution_count": null,
   "metadata": {
    "code_folding": [
     0
    ]
   },
   "outputs": [],
   "source": [
    "# Actualización de contenido de Netflix\n",
    "\n",
    "plt.figure(figsize=(10, 7), dpi=100)\n",
    "plt.pcolor(df, cmap='gist_heat_r', edgecolors='white', linewidths=2) # heatmap\n",
    "plt.xticks(np.arange(0.5, len(df.columns), 1), df.columns, fontsize=7, fontfamily='serif')\n",
    "plt.yticks(np.arange(0.5, len(df.index), 1), df.index, fontsize=7, fontfamily='serif')\n",
    "\n",
    "plt.title('Actualización de contenido de Netflix', fontsize=12, fontfamily='serif', fontweight='bold', position=(0.23, 1.0+0.02))\n",
    "cbar = plt.colorbar()\n",
    "\n",
    "cbar.ax.tick_params(labelsize=8) \n",
    "cbar.ax.minorticks_on()\n",
    "plt.show()"
   ]
  },
  {
   "cell_type": "markdown",
   "metadata": {},
   "source": [
    "### 1.4 Detalles\n",
    "\n",
    "Poner atención a pequeños detalles en la visualización nos ayudará a enfocar mejor la atención a lo más importante. Es importante que una visualización sea buena para lograr apoyar de la mejor manera a la toma de decisión y para documentar con estilo los reportes y proyectos."
   ]
  },
  {
   "cell_type": "code",
   "execution_count": null,
   "metadata": {
    "code_folding": [
     0
    ]
   },
   "outputs": [],
   "source": [
    "#Ejemplo sobrevivientes titanic\n",
    "\n",
    "fig, ax = plt.subplots(1, 2, figsize=(18, 7), dpi=300)\n",
    "\n",
    "# ax1\n",
    "ax[0].bar(titanic_age['survival rate'].index, titanic_age['survival rate'], color='gray')\n",
    "ax[0].set_title('Banda de Edad y Tasa de Supervivencia')\n",
    "\n",
    "# ax2\n",
    "color_map = ['gray' for _ in range(9)]\n",
    "color_map[0] = color_map[8] = '#3caea3'\n",
    "ax[1].bar(titanic_age['survival rate'].index, titanic_age['survival rate'], alpha=0.7, color=color_map, width=0.6, edgecolor='black', linewidth=1.2)\n",
    "ax[1].set_title('Banda de Edad y Tasa de Supervivencia', fontsize=15, fontweight='bold', position=(0.25, 1.0+0.05))\n",
    "for i in titanic_age['survival rate'].index:\n",
    "    ax[1].annotate(f\"{titanic_age['survival rate'][i]:.02f}%\", \n",
    "                   xy=(i, titanic_age['survival rate'][i] + 2),\n",
    "                   va = 'center', ha='center',fontweight='bold', color='#383838'\n",
    "                  )\n",
    "\n",
    "ax[1].yaxis.set_major_formatter(FuncFormatter(lambda y, _: f'{y:}%')) \n",
    "plt.suptitle('* Destacadas la tasa de los niños y los ancianos', x=0.65, y=0.94, color='gray')\n",
    "plt.subplots_adjust(left=0.5, right=0.8)\n",
    "plt.tight_layout()\n",
    "plt.show()"
   ]
  },
  {
   "cell_type": "markdown",
   "metadata": {},
   "source": [
    "Otra forma de darle estilo e información a nuestros gráficos es analizar distintos segmentos para ver si podemos entregar más información, como en el ejemplo que sigue:"
   ]
  },
  {
   "cell_type": "code",
   "execution_count": null,
   "metadata": {
    "code_folding": [
     0
    ]
   },
   "outputs": [],
   "source": [
    "# Ejemplo notas\n",
    "\n",
    "fig, ax = plt.subplots(1, 2, figsize = (15, 7), dpi=150)\n",
    "\n",
    "ax[0].scatter(x='math score', y='reading score',data=exam_data, color='gray')\n",
    "ax[0].set_title('Antes')\n",
    "\n",
    "# You can use sns.scatterplot + hue parameter\n",
    "ax[1].scatter(x='math score', y='reading score',data=exam_data[exam_data['gender']=='male'], color='skyblue', alpha=0.5, label='Hombres', s=70)\n",
    "ax[1].scatter(x='math score', y='reading score',data=exam_data[exam_data['gender']=='female'], color='salmon', alpha=0.5, label='Mujeres', s=70)\n",
    "ax[1].set_title('Después', fontsize=15, fontweight='bold')\n",
    "\n",
    "ax[1].legend()\n",
    "ax[1].set_xlabel('Puntaje en matemáticas', color = 'mediumslateblue')\n",
    "ax[1].set_ylabel('Puntaje en lenguaje', color = 'mediumslateblue')\n",
    "\n",
    "# upper & right border remove \n",
    "plt.gca().spines['top'].set_visible(False)\n",
    "plt.gca().spines['right'].set_visible(False)\n",
    "plt.show()"
   ]
  },
  {
   "cell_type": "markdown",
   "metadata": {},
   "source": [
    "Para más ejemplos de gráficos utilizando MatplotLib recomendamos visitar el artículo <a href=\"https://nextjournal.com/sosiristseng/top-50-matplotlib-visualizations\">Top 50 Matplotlib visualizations</a>."
   ]
  },
  {
   "cell_type": "markdown",
   "metadata": {},
   "source": [
    "<a id=\"section2\"></a>\n",
    "<h1> 2. Seaborn </h1>\n",
    "    \n",
    "Seaborn aprovecha el poder de matplotlib para crear gráficos hermosos en unas pocas líneas de código. La diferencia clave son los estilos y paletas de colores predeterminados de Seaborn, que están diseñados para ser más estéticamente agradables y modernos. Dado que Seaborn está construido sobre matplotlib, necesitará saber matplotlib para modificar los valores predeterminados de Seaborn\n",
    "\n",
    "<p><img alt=\"Pandas\" width=150 src=\"https://data-flair.training/blogs/wp-content/uploads/sites/2/2019/07/Seaborn-logo.png\", align=\"right\", hspace=0, vspace=5></p>\n",
    "\n",
    "Para instalar la librería puede hacerse a través del comando **pip** o el comando **conda** en la consola de comandos:\n",
    "\n",
    "\n",
    "\n",
    "```cmd\n",
    "conda install seaborn\n",
    "\n",
    "pip install seaborn\n",
    "```"
   ]
  },
  {
   "cell_type": "code",
   "execution_count": null,
   "metadata": {
    "code_folding": [
     0
    ]
   },
   "outputs": [],
   "source": [
    "# Importamos la librería (Formalismo)\n",
    "\n",
    "import seaborn as sns\n",
    "from collections import Counter"
   ]
  },
  {
   "cell_type": "code",
   "execution_count": null,
   "metadata": {
    "code_folding": [
     0
    ]
   },
   "outputs": [],
   "source": [
    "# Importamos los datasets\n",
    "\n",
    "median_house_hold_in_come = pd.read_csv('https://raw.githubusercontent.com/RegaipKURT/Data_Visualisation_with_SEABORN/master/MedianHouseholdIncome2015.csv', encoding=\"windows-1252\")\n",
    "percentage_people_below_poverty_level = pd.read_csv('https://raw.githubusercontent.com/RegaipKURT/Data_Visualisation_with_SEABORN/master/PercentagePeopleBelowPovertyLevel.csv', encoding=\"windows-1252\")\n",
    "percent_over_25_completed_highSchool = pd.read_csv('https://raw.githubusercontent.com/RegaipKURT/Data_Visualisation_with_SEABORN/master/PercentOver25CompletedHighSchool.csv', encoding=\"windows-1252\")\n",
    "share_race_city = pd.read_csv('https://raw.githubusercontent.com/RegaipKURT/Data_Visualisation_with_SEABORN/master/ShareRaceByCity.csv', encoding=\"windows-1252\")\n",
    "kill = pd.read_csv('https://raw.githubusercontent.com/RegaipKURT/Data_Visualisation_with_SEABORN/master/PoliceKillingsUS.csv', encoding=\"windows-1252\")"
   ]
  },
  {
   "cell_type": "markdown",
   "metadata": {},
   "source": [
    "En nuestro primer ejemplo analizaremos la tasa de pobreza en los estados de USA."
   ]
  },
  {
   "cell_type": "code",
   "execution_count": null,
   "metadata": {
    "code_folding": [
     0
    ]
   },
   "outputs": [],
   "source": [
    "# Preprocesamiento\n",
    "\n",
    "percentage_people_below_poverty_level.poverty_rate.replace(['-'],0.0,inplace = True)\n",
    "percentage_people_below_poverty_level.poverty_rate = percentage_people_below_poverty_level.poverty_rate.astype(float)\n",
    "area_list = list(percentage_people_below_poverty_level['Geographic Area'].unique())\n",
    "area_poverty_ratio = []\n",
    "for i in area_list:\n",
    "    x = percentage_people_below_poverty_level[percentage_people_below_poverty_level['Geographic Area']==i]\n",
    "    area_poverty_rate = sum(x.poverty_rate)/len(x)\n",
    "    area_poverty_ratio.append(area_poverty_rate)\n",
    "data = pd.DataFrame({'area_list': area_list,'area_poverty_ratio':area_poverty_ratio})\n",
    "new_index = (data['area_poverty_ratio'].sort_values(ascending=False)).index.values\n",
    "sorted_data = data.reindex(new_index)"
   ]
  },
  {
   "cell_type": "code",
   "execution_count": null,
   "metadata": {
    "code_folding": [
     0
    ]
   },
   "outputs": [],
   "source": [
    "# Ejemplo\n",
    "\n",
    "plt.figure(figsize=(10,6))\n",
    "sns.barplot(x=sorted_data['area_list'], y=sorted_data['area_poverty_ratio'])\n",
    "plt.xticks(rotation= 45)\n",
    "plt.xlabel('Estados')\n",
    "plt.ylabel('Tasa de pobreza')\n",
    "plt.title('Tasa de pobreza decreciente por estados')"
   ]
  },
  {
   "cell_type": "markdown",
   "metadata": {},
   "source": [
    "Haremos ahora un segundo ejemplo, en donde plotearemos la tasa de graduación de la educación superior en los estados de USA."
   ]
  },
  {
   "cell_type": "code",
   "execution_count": null,
   "metadata": {
    "code_folding": [
     0
    ]
   },
   "outputs": [],
   "source": [
    "# Preprocesamos los datos\n",
    "\n",
    "percent_over_25_completed_highSchool.percent_completed_hs.replace(['-'],0.0,inplace = True)\n",
    "percent_over_25_completed_highSchool.percent_completed_hs = percent_over_25_completed_highSchool.percent_completed_hs.astype(float)\n",
    "area_list = list(percent_over_25_completed_highSchool['Geographic Area'].unique())\n",
    "area_highschool = []\n",
    "for i in area_list:\n",
    "    x = percent_over_25_completed_highSchool[percent_over_25_completed_highSchool['Geographic Area']==i]\n",
    "    area_highschool_rate = sum(x.percent_completed_hs)/len(x)\n",
    "    area_highschool.append(area_highschool_rate)\n",
    "# sorting\n",
    "data = pd.DataFrame({'area_list': area_list,'area_highschool_ratio':area_highschool})\n",
    "new_index = (data['area_highschool_ratio'].sort_values(ascending=True)).index.values\n",
    "sorted_data2 = data.reindex(new_index)"
   ]
  },
  {
   "cell_type": "code",
   "execution_count": null,
   "metadata": {
    "code_folding": [
     0
    ]
   },
   "outputs": [],
   "source": [
    "# Ejemplo tasa de graduación\n",
    "\n",
    "plt.figure(figsize=(10,6),)\n",
    "sns.barplot(x=sorted_data2['area_list'], y=sorted_data2['area_highschool_ratio'])\n",
    "plt.xticks(rotation= 90)\n",
    "plt.xlabel('Estados')\n",
    "plt.ylabel('Tasa de graduación')\n",
    "plt.title(\"Porcentaje de gente sobre 25 años graduada\")"
   ]
  },
  {
   "cell_type": "markdown",
   "metadata": {},
   "source": [
    "Veamos otro ejemplo, en donde graficaremos en orden de radio de pobreza los estados y veremos su tasa de graduación."
   ]
  },
  {
   "cell_type": "code",
   "execution_count": null,
   "metadata": {
    "code_folding": [
     0
    ]
   },
   "outputs": [],
   "source": [
    "# Procesamiento de datos\n",
    "\n",
    "sorted_data['area_poverty_ratio'] = sorted_data['area_poverty_ratio']/max( sorted_data['area_poverty_ratio'])\n",
    "sorted_data2['area_highschool_ratio'] = sorted_data2['area_highschool_ratio']/max( sorted_data2['area_highschool_ratio'])\n",
    "data = pd.concat([sorted_data,sorted_data2['area_highschool_ratio']],axis=1)\n",
    "data.sort_values('area_poverty_ratio',inplace=True)"
   ]
  },
  {
   "cell_type": "code",
   "execution_count": null,
   "metadata": {
    "code_folding": [
     0
    ]
   },
   "outputs": [],
   "source": [
    "# Ejemplo de series\n",
    "\n",
    "f,ax1 = plt.subplots(figsize =(12,7))\n",
    "ax2 = ax1.twinx()\n",
    "sns.pointplot(x='area_list',y='area_poverty_ratio',data=data,color='lime',alpha=0.8)\n",
    "sns.pointplot(x='area_list',y='area_highschool_ratio',data=data,color='red',alpha=0.8)\n",
    "plt.xlabel('States',fontsize = 15,color='blue')\n",
    "ax1.set_ylabel('Tasa de graduación',fontsize = 15,color='red')\n",
    "ax2.set_ylabel('Tasa de pobreza',fontsize = 15,color='green')\n",
    "plt.title('High School Graduate  VS  Poverty Rate',fontsize = 20,color='blue')\n",
    "plt.grid()"
   ]
  },
  {
   "cell_type": "markdown",
   "metadata": {},
   "source": [
    "<a id=\"section3\"></a>\n",
    "<h1> 3. Plotly </h1>\n",
    "    \n",
    "Plotly es una librería que ayuda en la visualización de datos de manera interactiva, se creó para hacer que los datos sean más significativos al tener gráficos interactivos y gráficos que también podrían crearse en línea. El hecho de que pudiéramos visualizar los datos en línea eliminó muchos obstáculos asociados con el uso fuera de línea de una biblioteca. Sin embargo, Plotly puede usarse como una herramienta tanto fuera de línea como en línea, lo que nos brinda lo mejor de ambos mundos.\n",
    "\n",
    "<p><img alt=\"Pandas\" width=200 src=\"https://upload.wikimedia.org/wikipedia/commons/3/37/Plotly-logo-01-square.png\", align=\"right\", hspace=0, vspace=5></p>\n",
    "\n",
    "Para instalar la librería puede hacerse a través del comando **pip** o el comando **conda** en la consola de comandos:\n",
    "\n",
    "\n",
    "\n",
    "```cmd\n",
    "conda install plotly\n",
    "\n",
    "pip install plotly\n",
    "```"
   ]
  },
  {
   "cell_type": "code",
   "execution_count": null,
   "metadata": {
    "code_folding": [
     0
    ]
   },
   "outputs": [],
   "source": [
    "# Importando la librería\n",
    "\n",
    "\n",
    "from plotly.offline import init_notebook_mode, iplot, plot\n",
    "import plotly as py\n",
    "\n",
    "init_notebook_mode(connected=True)\n",
    "\n",
    "import plotly.graph_objs as go\n",
    "import plotly.figure_factory as ff\n",
    "\n",
    "from plotly import tools"
   ]
  },
  {
   "cell_type": "code",
   "execution_count": null,
   "metadata": {
    "code_folding": [
     0
    ]
   },
   "outputs": [],
   "source": [
    "# Preprocesando los datos\n",
    "\n",
    "timesData = pd.read_csv(\"https://raw.githubusercontent.com/arnaudbenard/university-ranking/master/timesData.csv\")\n",
    "\n",
    "df = timesData.iloc[:100,:]\n",
    "df2014 = timesData[timesData.year == 2014].iloc[:100,:]\n",
    "df2015 = timesData[timesData.year == 2015].iloc[:100,:]\n",
    "df2016 = timesData[timesData.year == 2016].iloc[:100,:]\n",
    "df2014_top3 = timesData[timesData.year == 2014].iloc[:3,:]\n",
    "df2016_top7 = timesData[timesData.year == 2016].iloc[:7,:]\n",
    "y_saving = [each for each in df2016_top7.research]\n",
    "y_net_worth  = [float(each) for each in df2016_top7.income]\n",
    "x_saving = [each for each in df2016_top7.university_name]\n",
    "x_net_worth  = [each for each in df2016_top7.university_name]\n"
   ]
  },
  {
   "cell_type": "markdown",
   "metadata": {},
   "source": [
    "Analizemos un primer ejemplo, en donde veremos la estructura para comenzar a trabajar a futuro con Plotly si lo deseamos."
   ]
  },
  {
   "cell_type": "code",
   "execution_count": null,
   "metadata": {
    "code_folding": [
     0
    ]
   },
   "outputs": [],
   "source": [
    "# Ejemplo, ranking en citaciones y enseñanza del top 100 de universidades del mundo\n",
    "\n",
    "# Creando las lineas\n",
    "\n",
    "trace1 = go.Scatter(\n",
    "                    x = df.world_rank,\n",
    "                    y = df.citations,\n",
    "                    mode = \"lines\",\n",
    "                    name = \"citations\",\n",
    "                    marker = dict(color = 'rgba(16, 112, 2, 0.8)'),\n",
    "                    text= df.university_name)\n",
    "\n",
    "trace2 = go.Scatter(\n",
    "                    x = df.world_rank,\n",
    "                    y = df.teaching,\n",
    "                    mode = \"lines+markers\",\n",
    "                    name = \"teaching\",\n",
    "                    marker = dict(color = 'rgba(80, 26, 80, 0.8)'),\n",
    "                    text= df.university_name)\n",
    "\n",
    "# Guardando ambos objetos en un diccionario, que serán nuestros datos\n",
    "\n",
    "data = [trace1, trace2]\n",
    "\n",
    "# Guardando en un diccionario las opciones del layout\n",
    "\n",
    "layout = dict(title = 'Citaciones y Enseñanza vs Ranking del Top 100 de Universidades',\n",
    "              xaxis= dict(title= 'Ranking',ticklen= 5,zeroline= False)\n",
    "             )\n",
    "\n",
    "# Creando un diccionario para la figura\n",
    "\n",
    "fig = dict(data = data, layout = layout)\n",
    "\n",
    "# Ploteando con iplot\n",
    "\n",
    "iplot(fig)"
   ]
  },
  {
   "cell_type": "markdown",
   "metadata": {},
   "source": [
    "Cabe destacar que si cambiamos un argumento en el modo del objeto Scatter, podemos dibujar gráficos de puntos; además para darle más detalles al gráfico podemos utilizar mas argumentos en el diccionario correspondiente al layout."
   ]
  },
  {
   "cell_type": "code",
   "execution_count": null,
   "metadata": {
    "code_folding": [
     0
    ]
   },
   "outputs": [],
   "source": [
    "# Ejemplo, Scatter separado por año para las citaciones\n",
    "\n",
    "trace1 =go.Scatter(\n",
    "                    x = df2014.world_rank,\n",
    "                    y = df2014.citations,\n",
    "                    mode = \"markers\",\n",
    "                    name = \"2014\",\n",
    "                    marker = dict(color = 'rgba(255, 128, 255, 0.8)'),\n",
    "                    text= df2014.university_name)\n",
    "\n",
    "trace2 =go.Scatter(\n",
    "                    x = df2015.world_rank,\n",
    "                    y = df2015.citations,\n",
    "                    mode = \"markers\",\n",
    "                    name = \"2015\",\n",
    "                    marker = dict(color = 'rgba(255, 128, 2, 0.8)'),\n",
    "                    text= df2015.university_name)\n",
    "\n",
    "trace3 =go.Scatter(\n",
    "                    x = df2016.world_rank,\n",
    "                    y = df2016.citations,\n",
    "                    mode = \"markers\",\n",
    "                    name = \"2016\",\n",
    "                    marker = dict(color = 'rgba(0, 255, 200, 0.8)'),\n",
    "                    text= df2016.university_name)\n",
    "\n",
    "data = [trace1, trace2, trace3]\n",
    "\n",
    "layout = dict(title = 'Citaciones vs Ranking del Top 100 de Universidades el 2014, 2015 y 2016',\n",
    "              xaxis= dict(title= 'Ranking',ticklen= 5,zeroline= False),\n",
    "              yaxis= dict(title= 'Citaciones',ticklen= 5,zeroline= False)\n",
    "             )\n",
    "\n",
    "fig = dict(data = data, layout = layout)\n",
    "iplot(fig)\n"
   ]
  },
  {
   "cell_type": "markdown",
   "metadata": {},
   "source": [
    "Existen otros tipos de objetos que podemos crear con esta librería, como lo son los gráficos de barra."
   ]
  },
  {
   "cell_type": "code",
   "execution_count": null,
   "metadata": {
    "code_folding": [
     0
    ]
   },
   "outputs": [],
   "source": [
    "# Ejemplo gráficos de barra\n",
    "\n",
    "trace1 = go.Bar(\n",
    "                x = df2014_top3.university_name,\n",
    "                y = df2014_top3.citations,\n",
    "                name = \"citations\",\n",
    "                marker = dict(color = 'rgba(255, 174, 255, 0.5)',\n",
    "                             line=dict(color='rgb(0,0,0)',width=1.5)),\n",
    "                text = df2014_top3.country)\n",
    "# create trace2 \n",
    "trace2 = go.Bar(\n",
    "                x = df2014_top3.university_name,\n",
    "                y = df2014_top3.teaching,\n",
    "                name = \"teaching\",\n",
    "                marker = dict(color = 'rgba(255, 255, 128, 0.5)',\n",
    "                              line=dict(color='rgb(0,0,0)',width=1.5)),\n",
    "                text = df2014_top3.country)\n",
    "data = [trace1, trace2]\n",
    "layout = go.Layout(barmode = \"group\")\n",
    "fig = go.Figure(data = data, layout = layout)\n",
    "iplot(fig)"
   ]
  },
  {
   "cell_type": "markdown",
   "metadata": {},
   "source": [
    "Si nos ponemos a jugar un poco con el código y las opciones de detalle podemos hacer muchisimos gráficos interactivos más complejos!"
   ]
  },
  {
   "cell_type": "code",
   "execution_count": null,
   "metadata": {
    "code_folding": [
     0
    ]
   },
   "outputs": [],
   "source": [
    "# Ejemplo dos gráficos\n",
    "\n",
    "trace0 = go.Bar(\n",
    "                x=y_saving,\n",
    "                y=x_saving,\n",
    "                marker=dict(color='rgba(171, 50, 96, 0.6)',line=dict(color='rgba(171, 50, 96, 1.0)',width=1)),\n",
    "                name='research',\n",
    "                orientation='h')\n",
    "\n",
    "trace1 = go.Scatter(\n",
    "                x=y_net_worth,\n",
    "                y=x_net_worth,\n",
    "                mode='lines+markers',\n",
    "                line=dict(color='rgb(63, 72, 204)'),\n",
    "                name='income')\n",
    "\n",
    "layout = dict(\n",
    "                title='Citations and income',\n",
    "                yaxis=dict(showticklabels=True,domain=[0, 0.85]),\n",
    "                yaxis2=dict(showline=True,showticklabels=False,linecolor='rgba(102, 102, 102, 0.8)',linewidth=2,domain=[0, 0.85]),\n",
    "                xaxis=dict(zeroline=False,showline=False,showticklabels=True,showgrid=True,domain=[0, 0.42]),\n",
    "                xaxis2=dict(zeroline=False,showline=False,showticklabels=True,showgrid=True,domain=[0.47, 1],side='top',dtick=25),\n",
    "                legend=dict(x=0.029,y=1.038,font=dict(size=10) ),\n",
    "                margin=dict(l=200, r=20,t=70,b=70),\n",
    "                paper_bgcolor='rgb(248, 248, 255)',\n",
    "                plot_bgcolor='rgb(248, 248, 255)')\n",
    "\n",
    "annotations = []\n",
    "\n",
    "y_s = np.round(y_saving, decimals=2)\n",
    "\n",
    "y_nw = np.rint(y_net_worth)\n",
    "\n",
    "\n",
    "for ydn, yd, xd in zip(y_nw, y_s, x_saving):\n",
    "    annotations.append(dict(xref='x2', yref='y2', y=xd, x=ydn - 4,text='{:,}'.format(ydn),font=dict(family='Arial', size=12,color='rgb(63, 72, 204)'),showarrow=False))\n",
    "    annotations.append(dict(xref='x1', yref='y1', y=xd, x=yd + 3,text=str(yd),font=dict(family='Arial', size=12,color='rgb(171, 50, 96)'),showarrow=False))\n",
    "\n",
    "layout['annotations'] = annotations\n",
    "\n",
    "\n",
    "\n",
    "fig = tools.make_subplots(rows=1, cols=2, specs=[[{}, {}]], shared_xaxes=True,\n",
    "                          shared_yaxes=False, vertical_spacing=0.001)\n",
    "\n",
    "\n",
    "fig.append_trace(trace0, 1, 1)\n",
    "fig.append_trace(trace1, 1, 2)\n",
    "\n",
    "fig['layout'].update(layout)\n",
    "iplot(fig)"
   ]
  },
  {
   "cell_type": "markdown",
   "metadata": {},
   "source": [
    "Ahora pueden comenzar a profundizar más sobre distintas ideas y dudas que tengan sobre visualización!"
   ]
  },
  {
   "cell_type": "code",
   "execution_count": null,
   "metadata": {},
   "outputs": [],
   "source": []
  }
 ],
 "metadata": {
  "kernelspec": {
   "display_name": "Python 3",
   "language": "python",
   "name": "python3"
  },
  "language_info": {
   "codemirror_mode": {
    "name": "ipython",
    "version": 3
   },
   "file_extension": ".py",
   "mimetype": "text/x-python",
   "name": "python",
   "nbconvert_exporter": "python",
   "pygments_lexer": "ipython3",
   "version": "3.7.6"
  }
 },
 "nbformat": 4,
 "nbformat_minor": 4
}
